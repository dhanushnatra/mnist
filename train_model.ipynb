{
 "cells": [
  {
   "cell_type": "markdown",
   "id": "e05d3aa2",
   "metadata": {},
   "source": [
    "Basic model"
   ]
  },
  {
   "cell_type": "code",
   "execution_count": null,
   "id": "e28570cf",
   "metadata": {},
   "outputs": [],
   "source": [
    "import torch.nn as nn\n",
    "model=nn.Sequential(\n",
    "            nn.Linear(in_features=784,out_features=256),\n",
    "            nn.ReLU(),\n",
    "            nn.Linear(in_features=256,out_features=10),\n",
    "            nn.LogSoftmax(dim=1)\n",
    "        )\n",
    "import torch.optim as optim\n",
    "optimizer=optim.SGD(\n",
    "    model.parameters(),\n",
    "    lr=0.01\n",
    ")\n",
    "criterion = nn.CrossEntropyLoss()"
   ]
  },
  {
   "cell_type": "markdown",
   "id": "e9750b92",
   "metadata": {},
   "source": [
    "Load Dataset"
   ]
  },
  {
   "cell_type": "code",
   "execution_count": 17,
   "id": "4173a51e",
   "metadata": {},
   "outputs": [],
   "source": [
    "from torchvision.datasets import MNIST\n",
    "from torchvision import transforms\n",
    "from torch.utils.data import DataLoader\n",
    "\n",
    "transform = transforms.Compose([\n",
    "    transforms.ToTensor(),\n",
    "    transforms.Normalize((0.5,), (0.5,))\n",
    "])\n",
    "\n",
    "train_dataset = MNIST(root='./data', train=True, download=True, transform=transform)\n",
    "test_dataset = MNIST(root='./data', train=False, download=True, transform=transform)\n",
    "batch_size=100\n",
    "train_loader = DataLoader(train_dataset, batch_size=batch_size, shuffle=True)\n",
    "test_loader = DataLoader(test_dataset, batch_size=batch_size, shuffle=False)"
   ]
  },
  {
   "cell_type": "markdown",
   "id": "da578deb",
   "metadata": {},
   "source": [
    "Training"
   ]
  },
  {
   "cell_type": "code",
   "execution_count": 18,
   "id": "4bf8e0f0",
   "metadata": {},
   "outputs": [
    {
     "name": "stdout",
     "output_type": "stream",
     "text": [
      "Epoch [1/25], Loss: 0.0884\n",
      "Epoch [2/25], Loss: 0.0865\n",
      "Epoch [3/25], Loss: 0.0846\n",
      "Epoch [4/25], Loss: 0.0829\n",
      "Epoch [5/25], Loss: 0.0811\n",
      "Epoch [6/25], Loss: 0.0796\n",
      "Epoch [7/25], Loss: 0.0778\n",
      "Epoch [8/25], Loss: 0.0766\n",
      "Epoch [9/25], Loss: 0.0750\n",
      "Epoch [10/25], Loss: 0.0737\n",
      "Epoch [11/25], Loss: 0.0722\n",
      "Epoch [12/25], Loss: 0.0709\n",
      "Epoch [13/25], Loss: 0.0696\n",
      "Epoch [14/25], Loss: 0.0685\n",
      "Epoch [15/25], Loss: 0.0672\n",
      "Epoch [16/25], Loss: 0.0660\n",
      "Epoch [17/25], Loss: 0.0648\n",
      "Epoch [18/25], Loss: 0.0638\n",
      "Epoch [19/25], Loss: 0.0625\n",
      "Epoch [20/25], Loss: 0.0616\n",
      "Epoch [21/25], Loss: 0.0608\n",
      "Epoch [22/25], Loss: 0.0598\n",
      "Epoch [23/25], Loss: 0.0588\n",
      "Epoch [24/25], Loss: 0.0576\n",
      "Epoch [25/25], Loss: 0.0568\n"
     ]
    }
   ],
   "source": [
    "import torch\n",
    "num_epochs = 25\n",
    "device = torch.device(\"cuda\" if torch.cuda.is_available() else \"cpu\")\n",
    "model.to(device)\n",
    "for epoch in range(num_epochs):\n",
    "    running_loss = 0.0\n",
    "    for images, labels in train_loader:\n",
    "        images = images.view(images.size(0), -1)\n",
    "        optimizer.zero_grad()\n",
    "        images = images.to(device)\n",
    "        labels = labels.to(device)\n",
    "        outputs = model(images)\n",
    "        loss = criterion(outputs, labels)\n",
    "        loss.backward()\n",
    "        optimizer.step()\n",
    "        running_loss += loss.item()\n",
    "    \n",
    "    print(f'Epoch [{epoch+1}/{num_epochs}], Loss: {running_loss/len(train_loader):.4f}')"
   ]
  },
  {
   "cell_type": "markdown",
   "id": "bb893300",
   "metadata": {},
   "source": [
    "Testing"
   ]
  },
  {
   "cell_type": "code",
   "execution_count": 22,
   "id": "c468161c",
   "metadata": {},
   "outputs": [
    {
     "name": "stdout",
     "output_type": "stream",
     "text": [
      "Accuracy of the model on the test images: 97.58%\n"
     ]
    }
   ],
   "source": [
    "\n",
    "model.eval()\n",
    "correct = 0\n",
    "total = 0\n",
    "with torch.no_grad():  # Disable gradient calculation for not remebering history\n",
    "    for images, labels in test_loader:\n",
    "        images=images.to(device)\n",
    "        labels=labels.to(device)\n",
    "        images = images.view(images.size(0), -1)\n",
    "        outputs = model(images)\n",
    "        _, predicted = torch.max(outputs.data, 1)\n",
    "        total += labels.size(0)\n",
    "        correct += (predicted == labels).sum().item()\n",
    "\n",
    "accuracy = 100 * correct / total\n",
    "print(f'Accuracy of the model on the test images: {accuracy:.2f}%')"
   ]
  },
  {
   "cell_type": "markdown",
   "id": "c89ca573",
   "metadata": {},
   "source": [
    "saving model"
   ]
  },
  {
   "cell_type": "code",
   "execution_count": 23,
   "id": "4a050da9",
   "metadata": {},
   "outputs": [],
   "source": [
    "torch.save(model, 'mnist_full.pth')"
   ]
  },
  {
   "cell_type": "markdown",
   "id": "a4026871",
   "metadata": {},
   "source": [
    "test single image"
   ]
  },
  {
   "cell_type": "code",
   "execution_count": 26,
   "id": "dc76c5b8",
   "metadata": {},
   "outputs": [
    {
     "data": {
      "image/png": "[encoded data removed]",
      "text/plain": [
       "<Figure size 640x480 with 1 Axes>"
      ]
     },
     "metadata": {},
     "output_type": "display_data"
    },
    {
     "name": "stdout",
     "output_type": "stream",
     "text": [
      "Predicted Label: 8\n"
     ]
    }
   ],
   "source": [
    "import matplotlib.pyplot as plt\n",
    "\n",
    "single_image, single_label = test_dataset[110]\n",
    "\n",
    "plt.imshow(single_image.squeeze(), cmap='gray')\n",
    "plt.title(f'Label: {single_label}')\n",
    "plt.show()\n",
    "\n",
    "single_image = single_image.view(1, -1).to(device)\n",
    "\n",
    "\n",
    "model.eval()\n",
    "with torch.no_grad():\n",
    "    output = model(single_image)\n",
    "    _, predicted_label = torch.max(output, 1)\n",
    "\n",
    "print(f'Predicted Label: {predicted_label.item()}')"
   ]
  }
 ],
 "metadata": {
  "kernelspec": {
   "display_name": "Python 3",
   "language": "python",
   "name": "python3"
  },
  "language_info": {
   "codemirror_mode": {
    "name": "ipython",
    "version": 3
   },
   "file_extension": ".py",
   "mimetype": "text/x-python",
   "name": "python",
   "nbconvert_exporter": "python",
   "pygments_lexer": "ipython3",
   "version": "3.12.3"
  }
 },
 "nbformat": 4,
 "nbformat_minor": 5
}
